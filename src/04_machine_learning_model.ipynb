{
 "cells": [
  {
   "cell_type": "markdown",
   "metadata": {},
   "source": [
    "# MACHINE LEARNING MODEL\n",
    "\n",
    "---"
   ]
  },
  {
   "cell_type": "markdown",
   "metadata": {},
   "source": [
    "0. Import libraries, csv and set target"
   ]
  },
  {
   "cell_type": "code",
   "execution_count": 30,
   "metadata": {},
   "outputs": [
    {
     "data": {
      "text/html": [
       "<div>\n",
       "<style scoped>\n",
       "    .dataframe tbody tr th:only-of-type {\n",
       "        vertical-align: middle;\n",
       "    }\n",
       "\n",
       "    .dataframe tbody tr th {\n",
       "        vertical-align: top;\n",
       "    }\n",
       "\n",
       "    .dataframe thead th {\n",
       "        text-align: right;\n",
       "    }\n",
       "</style>\n",
       "<table border=\"1\" class=\"dataframe\">\n",
       "  <thead>\n",
       "    <tr style=\"text-align: right;\">\n",
       "      <th></th>\n",
       "      <th>age</th>\n",
       "      <th>sex</th>\n",
       "      <th>bmi</th>\n",
       "      <th>children</th>\n",
       "      <th>smoker</th>\n",
       "      <th>region</th>\n",
       "      <th>charges</th>\n",
       "    </tr>\n",
       "  </thead>\n",
       "  <tbody>\n",
       "    <tr>\n",
       "      <th>0</th>\n",
       "      <td>0.472227</td>\n",
       "      <td>-1.024602</td>\n",
       "      <td>-1.756525</td>\n",
       "      <td>0.734336</td>\n",
       "      <td>0.508747</td>\n",
       "      <td>0.456116</td>\n",
       "      <td>9193.8385</td>\n",
       "    </tr>\n",
       "  </tbody>\n",
       "</table>\n",
       "</div>"
      ],
      "text/plain": [
       "        age       sex       bmi  children    smoker    region    charges\n",
       "0  0.472227 -1.024602 -1.756525  0.734336  0.508747  0.456116  9193.8385"
      ]
     },
     "execution_count": 30,
     "metadata": {},
     "output_type": "execute_result"
    }
   ],
   "source": [
    "# Libraries\n",
    "import pandas as pd\n",
    "from sklearn.linear_model import LinearRegression\n",
    "from sklearn.feature_selection import SelectKBest, f_regression\n",
    "from sklearn.metrics import mean_squared_error, mean_absolute_error, r2_score\n",
    "import numpy as np\n",
    "\n",
    "train_data = pd.read_csv(r'C:\\Users\\rnogu\\OneDrive\\Documentos\\GitHub\\Linear-regression-model\\data\\processed\\norm_insurance_train.csv')\n",
    "test_data = pd.read_csv(r'C:\\Users\\rnogu\\OneDrive\\Documentos\\GitHub\\Linear-regression-model\\data\\processed\\norm_insurance_test.csv')\n",
    "target = 'charges'\n",
    "train_data.head(1)"
   ]
  },
  {
   "cell_type": "markdown",
   "metadata": {},
   "source": [
    "1. Division X and Y"
   ]
  },
  {
   "cell_type": "code",
   "execution_count": 31,
   "metadata": {},
   "outputs": [],
   "source": [
    "# DROP COLUMN 'Y'\n",
    "X_train = train_data.drop([target], axis = 1)\n",
    "y_train = train_data[target]\n",
    "X_test = test_data.drop([target], axis = 1)\n",
    "y_test = test_data[target]"
   ]
  },
  {
   "cell_type": "code",
   "execution_count": 32,
   "metadata": {},
   "outputs": [
    {
     "name": "stdout",
     "output_type": "stream",
     "text": [
      "0    9193.8385\n",
      "Name: charges, dtype: float64\n"
     ]
    },
    {
     "data": {
      "text/html": [
       "<div>\n",
       "<style scoped>\n",
       "    .dataframe tbody tr th:only-of-type {\n",
       "        vertical-align: middle;\n",
       "    }\n",
       "\n",
       "    .dataframe tbody tr th {\n",
       "        vertical-align: top;\n",
       "    }\n",
       "\n",
       "    .dataframe thead th {\n",
       "        text-align: right;\n",
       "    }\n",
       "</style>\n",
       "<table border=\"1\" class=\"dataframe\">\n",
       "  <thead>\n",
       "    <tr style=\"text-align: right;\">\n",
       "      <th></th>\n",
       "      <th>age</th>\n",
       "      <th>sex</th>\n",
       "      <th>bmi</th>\n",
       "      <th>children</th>\n",
       "      <th>smoker</th>\n",
       "      <th>region</th>\n",
       "    </tr>\n",
       "  </thead>\n",
       "  <tbody>\n",
       "    <tr>\n",
       "      <th>0</th>\n",
       "      <td>0.472227</td>\n",
       "      <td>-1.024602</td>\n",
       "      <td>-1.756525</td>\n",
       "      <td>0.734336</td>\n",
       "      <td>0.508747</td>\n",
       "      <td>0.456116</td>\n",
       "    </tr>\n",
       "  </tbody>\n",
       "</table>\n",
       "</div>"
      ],
      "text/plain": [
       "        age       sex       bmi  children    smoker    region\n",
       "0  0.472227 -1.024602 -1.756525  0.734336  0.508747  0.456116"
      ]
     },
     "execution_count": 32,
     "metadata": {},
     "output_type": "execute_result"
    }
   ],
   "source": [
    "print(y_train.head(1))\n",
    "X_train.head(1)"
   ]
  },
  {
   "cell_type": "markdown",
   "metadata": {},
   "source": [
    "2. Create loop for lineal regression model"
   ]
  },
  {
   "cell_type": "code",
   "execution_count": 43,
   "metadata": {},
   "outputs": [
    {
     "name": "stdout",
     "output_type": "stream",
     "text": [
      "Modelo con 2 variables seleccionadas:\n",
      "Error absoluto medio: 3990.98\n",
      "Error cuadrático medio: 38274699.68\n",
      "Coeficiente de determinación (R^2): 0.75\n",
      "\n",
      "Modelo con 3 variables seleccionadas:\n",
      "Error absoluto medio: 4260.56\n",
      "Error cuadrático medio: 34512843.88\n",
      "Coeficiente de determinación (R^2): 0.78\n",
      "\n",
      "Modelo con 4 variables seleccionadas:\n",
      "Error absoluto medio: 4213.80\n",
      "Error cuadrático medio: 33981653.95\n",
      "Coeficiente de determinación (R^2): 0.78\n",
      "\n",
      "Modelo con 5 variables seleccionadas:\n",
      "Error absoluto medio: 4213.48\n",
      "Error cuadrático medio: 33979257.05\n",
      "Coeficiente de determinación (R^2): 0.78\n",
      "\n",
      "Modelo con 6 variables seleccionadas:\n",
      "Error absoluto medio: 4186.51\n",
      "Error cuadrático medio: 33635210.43\n",
      "Coeficiente de determinación (R^2): 0.78\n",
      "\n"
     ]
    },
    {
     "data": {
      "text/html": [
       "<div>\n",
       "<style scoped>\n",
       "    .dataframe tbody tr th:only-of-type {\n",
       "        vertical-align: middle;\n",
       "    }\n",
       "\n",
       "    .dataframe tbody tr th {\n",
       "        vertical-align: top;\n",
       "    }\n",
       "\n",
       "    .dataframe thead th {\n",
       "        text-align: right;\n",
       "    }\n",
       "</style>\n",
       "<table border=\"1\" class=\"dataframe\">\n",
       "  <thead>\n",
       "    <tr style=\"text-align: right;\">\n",
       "      <th></th>\n",
       "      <th>Variables</th>\n",
       "      <th>MAE</th>\n",
       "      <th>MSE</th>\n",
       "      <th>R2</th>\n",
       "    </tr>\n",
       "  </thead>\n",
       "  <tbody>\n",
       "    <tr>\n",
       "      <th>0</th>\n",
       "      <td>2</td>\n",
       "      <td>3990.979515</td>\n",
       "      <td>38274699.68</td>\n",
       "      <td>0.753462</td>\n",
       "    </tr>\n",
       "    <tr>\n",
       "      <th>1</th>\n",
       "      <td>3</td>\n",
       "      <td>4260.560091</td>\n",
       "      <td>34512843.88</td>\n",
       "      <td>0.777693</td>\n",
       "    </tr>\n",
       "    <tr>\n",
       "      <th>2</th>\n",
       "      <td>4</td>\n",
       "      <td>4213.798595</td>\n",
       "      <td>33981653.95</td>\n",
       "      <td>0.781115</td>\n",
       "    </tr>\n",
       "    <tr>\n",
       "      <th>3</th>\n",
       "      <td>5</td>\n",
       "      <td>4213.484798</td>\n",
       "      <td>33979257.05</td>\n",
       "      <td>0.781130</td>\n",
       "    </tr>\n",
       "    <tr>\n",
       "      <th>4</th>\n",
       "      <td>6</td>\n",
       "      <td>4186.508898</td>\n",
       "      <td>33635210.43</td>\n",
       "      <td>0.783346</td>\n",
       "    </tr>\n",
       "  </tbody>\n",
       "</table>\n",
       "</div>"
      ],
      "text/plain": [
       "   Variables          MAE          MSE        R2\n",
       "0          2  3990.979515  38274699.68  0.753462\n",
       "1          3  4260.560091  34512843.88  0.777693\n",
       "2          4  4213.798595  33981653.95  0.781115\n",
       "3          5  4213.484798  33979257.05  0.781130\n",
       "4          6  4186.508898  33635210.43  0.783346"
      ]
     },
     "execution_count": 43,
     "metadata": {},
     "output_type": "execute_result"
    }
   ],
   "source": [
    "# AUX list for dataframe\n",
    "results_list = []\n",
    "# Rango de variables a probar (por ejemplo, de 2 a 5)\n",
    "for num_features in range(2, 7):\n",
    "    # Selecciona las mejores 'num_features' características usando SelectKBest\n",
    "    selector = SelectKBest(score_func=f_regression, k=num_features)\n",
    "    X_train_selected = selector.fit_transform(X_train, y_train)\n",
    "\n",
    "    # Crea y entrena el modelo de regresión lineal con las características seleccionadas\n",
    "    model = LinearRegression()\n",
    "    model.fit(X_train_selected, y_train)\n",
    "\n",
    "    # Transforma el conjunto de prueba original con las mismas características seleccionadas\n",
    "    X_test_selected = selector.transform(X_test)\n",
    "\n",
    "    # Predice con el modelo entrenado en el conjunto de prueba seleccionado\n",
    "    y_pred = model.predict(X_test_selected)\n",
    "\n",
    "    # Calcula y muestra las métricas de evaluación\n",
    "    mae = mean_absolute_error(y_test, y_pred)\n",
    "    mse = mean_squared_error(y_test, y_pred)\n",
    "    r2 = r2_score(y_test, y_pred)\n",
    "\n",
    "    print(f\"Modelo con {num_features} variables seleccionadas:\")\n",
    "    print(f\"Error absoluto medio: {mae:.2f}\")\n",
    "    print(f\"Error cuadrático medio: {mse:.2f}\")\n",
    "    print(f\"Coeficiente de determinación (R^2): {r2:.2f}\")\n",
    "    print()\n",
    "\n",
    "    # Assing results to variables\n",
    "    results_list.append({\n",
    "        'Variables': num_features,\n",
    "        'MAE': mae,\n",
    "        'MSE': round(mse,2),\n",
    "        'R2': r2\n",
    "    })\n",
    "\n",
    "result_df = pd.DataFrame(results_list)\n",
    "result_df"
   ]
  },
  {
   "cell_type": "markdown",
   "metadata": {},
   "source": [
    "---\n",
    "\n",
    "# CONCLUSIONS\n",
    "\n",
    "1. Depending on the number of variables, the result of the machine learning models are the following:\n",
    "\n",
    "\n",
    "| Variables |         MAE |          MSE |        R2 |\n",
    "|-----------|-------------|--------------|-----------|\n",
    "|         2 | 3990.979515 |  38274699.68 | 0.753462  |\n",
    "|         3 | 4260.560091 |  34512843.88 | 0.777693  |\n",
    "|         4 | 4213.798595 |  33981653.95 | 0.781115  |\n",
    "|         5 | 4213.484798 |  33979257.05 | 0.781130  |\n",
    "|         6 | 4186.508898 |  33635210.43 | 0.783346  |\n",
    "\n",
    "2. The best result according variables:\n",
    "- According to MAE is 2 variables.\n",
    "- According to MSE is 6 variables.\n",
    "- According to R2 is 2 variables."
   ]
  }
 ],
 "metadata": {
  "kernelspec": {
   "display_name": "Python 3",
   "language": "python",
   "name": "python3"
  },
  "language_info": {
   "codemirror_mode": {
    "name": "ipython",
    "version": 3
   },
   "file_extension": ".py",
   "mimetype": "text/x-python",
   "name": "python",
   "nbconvert_exporter": "python",
   "pygments_lexer": "ipython3",
   "version": "3.12.1"
  }
 },
 "nbformat": 4,
 "nbformat_minor": 2
}
